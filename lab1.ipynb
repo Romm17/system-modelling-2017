{
 "cells": [
  {
   "cell_type": "code",
   "execution_count": 1,
   "metadata": {
    "collapsed": false
   },
   "outputs": [],
   "source": [
    "%matplotlib inline\n",
    "import numpy as np\n",
    "import matplotlib\n",
    "import matplotlib.pyplot as plt\n",
    "from scipy.stats import chisquare\n",
    "from scipy.stats import norm"
   ]
  },
  {
   "cell_type": "markdown",
   "metadata": {},
   "source": [
    "# Some useful stuff"
   ]
  },
  {
   "cell_type": "code",
   "execution_count": 2,
   "metadata": {
    "collapsed": false
   },
   "outputs": [],
   "source": [
    "def get_bins_and_plot_dist(ax, dist, title, color, n_bins, normed=False):\n",
    "    mean = np.mean(dist)\n",
    "    std = np.std(dist)\n",
    "    ax.set_title(\"{:10}, mean = {:.3f}, std = {:.3f}\".format(title, mean, std))\n",
    "    values, bins, _ = ax.hist(dist, color=color, bins=n_bins, normed=normed)\n",
    "    return bins, values\n",
    "    \n",
    "def get_theoretical_values(F, bins, n):\n",
    "    a = np.zeros(len(bins) - 1)\n",
    "    for i in range(1, len(bins)):\n",
    "        a[i-1] = F(bins[i]) - F(bins[i-1])\n",
    "    return a * n\n",
    "\n",
    "def join_bins(*arrays, k=5):\n",
    "    lengths = np.array(list(map(len, arrays)))\n",
    "    \n",
    "    assert np.all(lengths > 0)\n",
    "    assert len(np.unique(lengths)) == 1\n",
    "    \n",
    "    result = [[a[0]] for a in arrays]\n",
    "    i = 1\n",
    "    while i < len(arrays[0]):\n",
    "        if np.any(np.array([b[-1] < k for b in result])) or np.any(np.array([a[i] < k for a in arrays])):\n",
    "            for j in range(len(arrays)):\n",
    "                result[j][-1] += arrays[j][i]\n",
    "        else:\n",
    "            for j in range(len(arrays)):\n",
    "                result[j].append(arrays[j][i])\n",
    "        i += 1\n",
    "    return tuple(result)"
   ]
  },
  {
   "cell_type": "markdown",
   "metadata": {},
   "source": [
    "# Creating generated and theoretical distributions"
   ]
  },
  {
   "cell_type": "code",
   "execution_count": 3,
   "metadata": {
    "collapsed": false
   },
   "outputs": [],
   "source": [
    "size = 10000\n",
    "n_bins = 20\n",
    "\n",
    "distributions = {\n",
    "    'uniform': {\n",
    "        'bins': None,\n",
    "        'generated_values': None,\n",
    "        'theoretical_values': None,\n",
    "        'F': lambda x: x\n",
    "    },\n",
    "    'normal': {\n",
    "        'bins': None,\n",
    "        'generated_values': None,\n",
    "        'theoretical_values': None,\n",
    "        'F': lambda x: norm.cdf(x)\n",
    "    },\n",
    "    'exponetial': {\n",
    "        'bins': None,\n",
    "        'generated_values': None,\n",
    "        'theoretical_values': None,\n",
    "        'F': lambda x: 1. - np.exp(-1. * x)\n",
    "    }\n",
    "}"
   ]
  },
  {
   "cell_type": "markdown",
   "metadata": {},
   "source": [
    "## Generating distributions randomly"
   ]
  },
  {
   "cell_type": "code",
   "execution_count": 4,
   "metadata": {
    "collapsed": false
   },
   "outputs": [],
   "source": [
    "uniform = np.random.uniform(size=size)\n",
    "normal = np.random.normal(size=size)\n",
    "exponential = np.random.exponential(size=size)"
   ]
  },
  {
   "cell_type": "markdown",
   "metadata": {},
   "source": [
    "### Ploting results"
   ]
  },
  {
   "cell_type": "code",
   "execution_count": 5,
   "metadata": {
    "collapsed": false
   },
   "outputs": [
    {
     "data": {
      "image/png": "[encoded data removed]",
      "text/plain": [
       "<matplotlib.figure.Figure at 0x7f1a03b695f8>"
      ]
     },
     "metadata": {},
     "output_type": "display_data"
    }
   ],
   "source": [
    "f, (ax1, ax2, ax3) = plt.subplots(3, figsize=(10, 9), sharex=True)\n",
    "\n",
    "distributions['uniform']['bins'], distributions['uniform']['generated_values'] = \\\n",
    "    get_bins_and_plot_dist(ax1, uniform, \"Uniform\", 'r', n_bins=n_bins)\n",
    "distributions['normal']['bins'], distributions['normal']['generated_values'] = \\\n",
    "    get_bins_and_plot_dist(ax2, normal, \"Normal\", 'g', n_bins=n_bins)\n",
    "distributions['exponetial']['bins'], distributions['exponetial']['generated_values'] = \\\n",
    "    get_bins_and_plot_dist(ax3, exponential, \"Exponential\", 'b', n_bins=n_bins)\n",
    "\n",
    "f.subplots_adjust(hspace=0.3)\n",
    "plt.show()"
   ]
  },
  {
   "cell_type": "markdown",
   "metadata": {},
   "source": [
    "## Calculating theoretical frequencies "
   ]
  },
  {
   "cell_type": "code",
   "execution_count": 6,
   "metadata": {
    "collapsed": false
   },
   "outputs": [],
   "source": [
    "for dist_name in distributions.keys():\n",
    "    distributions[dist_name]['theoretical_values'] = get_theoretical_values(\n",
    "        distributions[dist_name]['F'],\n",
    "        distributions[dist_name]['bins'],\n",
    "        size\n",
    "    )"
   ]
  },
  {
   "cell_type": "markdown",
   "metadata": {},
   "source": [
    "# Test $ \\chi^2 $"
   ]
  },
  {
   "cell_type": "markdown",
   "metadata": {},
   "source": [
    "## Join bins"
   ]
  },
  {
   "cell_type": "code",
   "execution_count": 7,
   "metadata": {
    "collapsed": false
   },
   "outputs": [],
   "source": [
    "min_points = 5\n",
    "\n",
    "for dist_name in distributions.keys():\n",
    "    distributions[dist_name]['generated_values'], distributions[dist_name]['theoretical_values'] = join_bins(\n",
    "        distributions[dist_name]['generated_values'],\n",
    "        distributions[dist_name]['theoretical_values'],\n",
    "        k=min_points\n",
    "    )"
   ]
  },
  {
   "cell_type": "code",
   "execution_count": 8,
   "metadata": {
    "collapsed": false
   },
   "outputs": [
    {
     "name": "stdout",
     "output_type": "stream",
     "text": [
      "uniform   : Power_divergenceResult(statistic=20.276553106212425, pvalue=0.37811255259596299)\n",
      "exponetial: Power_divergenceResult(statistic=5.9614168418775852, pvalue=0.94754588860923461)\n",
      "normal    : Power_divergenceResult(statistic=20.068099222584792, pvalue=0.27076094152012709)\n"
     ]
    }
   ],
   "source": [
    "for dist_name, dist in distributions.items():\n",
    "    r = chisquare(\n",
    "        np.array(dist['generated_values'], dtype=int),\n",
    "        f_exp=np.array(dist['theoretical_values'], dtype=int)\n",
    "    )\n",
    "    print(\"{:10}: {}\".format(dist_name, r))"
   ]
  }
 ],
 "metadata": {
  "kernelspec": {
   "display_name": "Python 3",
   "language": "python",
   "name": "python3"
  },
  "language_info": {
   "codemirror_mode": {
    "name": "ipython",
    "version": 3
   },
   "file_extension": ".py",
   "mimetype": "text/x-python",
   "name": "python",
   "nbconvert_exporter": "python",
   "pygments_lexer": "ipython3",
   "version": "3.5.2"
  }
 },
 "nbformat": 4,
 "nbformat_minor": 2
}
