{
 "cells": [
  {
   "cell_type": "code",
   "execution_count": 1,
   "metadata": {
    "collapsed": false
   },
   "outputs": [],
   "source": [
    "%matplotlib inline\n",
    "import numpy as np\n",
    "import matplotlib\n",
    "import matplotlib.pyplot as plt\n",
    "from scipy.stats import chisquare\n",
    "from scipy.stats import norm"
   ]
  },
  {
   "cell_type": "markdown",
   "metadata": {},
   "source": [
    "# Some useful stuff"
   ]
  },
  {
   "cell_type": "code",
   "execution_count": 2,
   "metadata": {
    "collapsed": false
   },
   "outputs": [],
   "source": [
    "def get_bins_and_plot_dist(ax, dist, title, color, n_bins, normed=False):\n",
    "    mean = np.mean(dist)\n",
    "    std = np.std(dist)\n",
    "    ax.set_title(\"{:10}, mean = {:.3f}, std = {:.3f}\".format(title, mean, std))\n",
    "    values, bins, _ = ax.hist(dist, color=color, bins=n_bins, normed=normed)\n",
    "    return bins, values\n",
    "    \n",
    "def get_theoretical_values(F, bins, n):\n",
    "    a = np.zeros(len(bins) - 1)\n",
    "    for i in range(1, len(bins)):\n",
    "        a[i-1] = F(bins[i]) - F(bins[i-1])\n",
    "    return a * n\n",
    "\n",
    "def join_bins(*arrays, k=5):\n",
    "    lengths = np.array(list(map(len, arrays)))\n",
    "    \n",
    "    assert np.all(lengths > 0)\n",
    "    assert len(np.unique(lengths)) == 1\n",
    "    \n",
    "    result = [[a[0]] for a in arrays]\n",
    "    i = 1\n",
    "    while i < len(arrays[0]):\n",
    "        if np.any(np.array([b[-1] < k for b in result])):\n",
    "            for j in range(len(arrays)):\n",
    "                result[j][-1] += arrays[j][i]\n",
    "        else:\n",
    "            for j in range(len(arrays)):\n",
    "                result[j].append(arrays[j][i])\n",
    "        i += 1\n",
    "    return tuple(result)"
   ]
  },
  {
   "cell_type": "markdown",
   "metadata": {},
   "source": [
    "# Creating generated and theoretical distributions"
   ]
  },
  {
   "cell_type": "code",
   "execution_count": 3,
   "metadata": {
    "collapsed": false
   },
   "outputs": [],
   "source": [
    "size = 10000\n",
    "n_bins = 20\n",
    "\n",
    "distributions = {\n",
    "    'uniform': {\n",
    "        'bins': None,\n",
    "        'generated_values': None,\n",
    "        'theoretical_values': None,\n",
    "        'F': lambda x: x\n",
    "    },\n",
    "    'normal': {\n",
    "        'bins': None,\n",
    "        'generated_values': None,\n",
    "        'theoretical_values': None,\n",
    "        'F': lambda x: norm.cdf(x)\n",
    "    },\n",
    "    'exponetial': {\n",
    "        'bins': None,\n",
    "        'generated_values': None,\n",
    "        'theoretical_values': None,\n",
    "        'F': lambda x: 1. - np.exp(-1. * x)\n",
    "    }\n",
    "}"
   ]
  },
  {
   "cell_type": "markdown",
   "metadata": {},
   "source": [
    "## Generating distributions randomly"
   ]
  },
  {
   "cell_type": "code",
   "execution_count": 4,
   "metadata": {
    "collapsed": false
   },
   "outputs": [],
   "source": [
    "uniform = np.random.uniform(size=size)\n",
    "normal = np.random.normal(size=size)\n",
    "exponential = np.random.exponential(size=size)"
   ]
  },
  {
   "cell_type": "markdown",
   "metadata": {},
   "source": [
    "### Ploting results"
   ]
  },
  {
   "cell_type": "code",
   "execution_count": 5,
   "metadata": {
    "collapsed": false
   },
   "outputs": [
    {
     "data": {
      "image/png": "[encoded data removed]",
      "text/plain": [
       "<matplotlib.figure.Figure at 0x7f9ea5f625f8>"
      ]
     },
     "metadata": {},
     "output_type": "display_data"
    }
   ],
   "source": [
    "f, (ax1, ax2, ax3) = plt.subplots(3, figsize=(10, 9), sharex=True)\n",
    "\n",
    "distributions['uniform']['bins'], distributions['uniform']['generated_values'] = \\\n",
    "    get_bins_and_plot_dist(ax1, uniform, \"Uniform\", 'r', n_bins=n_bins)\n",
    "distributions['normal']['bins'], distributions['normal']['generated_values'] = \\\n",
    "    get_bins_and_plot_dist(ax2, normal, \"Normal\", 'g', n_bins=n_bins)\n",
    "distributions['exponetial']['bins'], distributions['exponetial']['generated_values'] = \\\n",
    "    get_bins_and_plot_dist(ax3, exponential, \"Exponential\", 'b', n_bins=n_bins)\n",
    "\n",
    "f.subplots_adjust(hspace=0.3)\n",
    "plt.show()"
   ]
  },
  {
   "cell_type": "markdown",
   "metadata": {},
   "source": [
    "## Calculating theoretical frequencies "
   ]
  },
  {
   "cell_type": "code",
   "execution_count": 6,
   "metadata": {
    "collapsed": false
   },
   "outputs": [],
   "source": [
    "for dist_name in distributions.keys():\n",
    "    distributions[dist_name]['theoretical_values'] = get_theoretical_values(\n",
    "        distributions[dist_name]['F'],\n",
    "        distributions[dist_name]['bins'],\n",
    "        size\n",
    "    )"
   ]
  },
  {
   "cell_type": "markdown",
   "metadata": {},
   "source": [
    "# Test $ \\chi^2 $"
   ]
  },
  {
   "cell_type": "markdown",
   "metadata": {},
   "source": [
    "## Join bins"
   ]
  },
  {
   "cell_type": "code",
   "execution_count": 7,
   "metadata": {
    "collapsed": false
   },
   "outputs": [],
   "source": [
    "min_points = 5\n",
    "\n",
    "for dist_name in distributions.keys():\n",
    "    distributions[dist_name]['generated_values'], distributions[dist_name]['theoretical_values'] = join_bins(\n",
    "        distributions[dist_name]['generated_values'],\n",
    "        distributions[dist_name]['theoretical_values'],\n",
    "        k=min_points\n",
    "    )"
   ]
  },
  {
   "cell_type": "code",
   "execution_count": 8,
   "metadata": {
    "collapsed": false
   },
   "outputs": [
    {
     "name": "stdout",
     "output_type": "stream",
     "text": [
      "normal    : Power_divergenceResult(statistic=28.315804510595722, pvalue=0.057409130364209762)\n",
      "exponetial: Power_divergenceResult(statistic=inf, pvalue=0.0)\n",
      "uniform   : Power_divergenceResult(statistic=22.176352705410821, pvalue=0.2755675728556839)\n"
     ]
    },
    {
     "name": "stderr",
     "output_type": "stream",
     "text": [
      "/usr/local/lib/python3.5/dist-packages/scipy/stats/stats.py:4544: RuntimeWarning: divide by zero encountered in true_divide\n",
      "  terms = (f_obs - f_exp)**2 / f_exp\n"
     ]
    }
   ],
   "source": [
    "for dist_name, dist in distributions.items():\n",
    "    r = chisquare(\n",
    "        np.array(dist['generated_values'], dtype=int),\n",
    "        f_exp=np.array(dist['theoretical_values'], dtype=int)\n",
    "    )\n",
    "    print(\"{:10}: {}\".format(dist_name, r))"
   ]
  },
  {
   "cell_type": "code",
   "execution_count": 9,
   "metadata": {
    "collapsed": false
   },
   "outputs": [
    {
     "data": {
      "text/plain": [
       "{'exponetial': {'F': <function __main__.<lambda>>,\n",
       "  'bins': array([  5.21250990e-04,   5.06995738e-01,   1.01347022e+00,\n",
       "           1.51994471e+00,   2.02641920e+00,   2.53289368e+00,\n",
       "           3.03936817e+00,   3.54584266e+00,   4.05231714e+00,\n",
       "           4.55879163e+00,   5.06526612e+00,   5.57174061e+00,\n",
       "           6.07821509e+00,   6.58468958e+00,   7.09116407e+00,\n",
       "           7.59763855e+00,   8.10411304e+00,   8.61058753e+00,\n",
       "           9.11706201e+00,   9.62353650e+00,   1.01300110e+01]),\n",
       "  'generated_values': [3987.0,\n",
       "   2391.0,\n",
       "   1425.0,\n",
       "   874.0,\n",
       "   526.0,\n",
       "   313.0,\n",
       "   197.0,\n",
       "   115.0,\n",
       "   73.0,\n",
       "   42.0,\n",
       "   26.0,\n",
       "   10.0,\n",
       "   7.0,\n",
       "   8.0,\n",
       "   5.0,\n",
       "   1.0],\n",
       "  'theoretical_values': [3971.7654718250974,\n",
       "   2393.4508918476163,\n",
       "   1442.3326886553923,\n",
       "   869.17328943314828,\n",
       "   523.77805273782883,\n",
       "   315.63722892215316,\n",
       "   190.20816118754723,\n",
       "   114.62255167393631,\n",
       "   69.073426030807909,\n",
       "   41.624777270758969,\n",
       "   25.083772188562172,\n",
       "   15.115891746756427,\n",
       "   9.1090838165031052,\n",
       "   5.4892830251895841,\n",
       "   7.6627454850974885,\n",
       "   0.26288219630909992]},\n",
       " 'normal': {'F': <function __main__.<lambda>>,\n",
       "  'bins': array([-3.71546681, -3.33912726, -2.96278771, -2.58644817, -2.21010862,\n",
       "         -1.83376907, -1.45742952, -1.08108998, -0.70475043, -0.32841088,\n",
       "          0.04792867,  0.42426822,  0.80060776,  1.17694731,  1.55328686,\n",
       "          1.92962641,  2.30596595,  2.6823055 ,  3.05864505,  3.4349846 ,\n",
       "          3.81132414]),\n",
       "  'generated_values': [23.0,\n",
       "   26.0,\n",
       "   96.0,\n",
       "   179.0,\n",
       "   378.0,\n",
       "   679.0,\n",
       "   960.0,\n",
       "   1402.0,\n",
       "   1515.0,\n",
       "   1459.0,\n",
       "   1208.0,\n",
       "   873.0,\n",
       "   616.0,\n",
       "   309.0,\n",
       "   173.0,\n",
       "   63.0,\n",
       "   30.0,\n",
       "   9.0,\n",
       "   2.0],\n",
       "  'theoretical_values': [14.229192831606619,\n",
       "   33.242039932982429,\n",
       "   87.002747356254716,\n",
       "   197.9532793750501,\n",
       "   391.54785909509604,\n",
       "   673.29619826959174,\n",
       "   1006.5423548115593,\n",
       "   1308.177272154159,\n",
       "   1478.1294501383225,\n",
       "   1452.0143764764471,\n",
       "   1240.0573079858345,\n",
       "   920.71109071160561,\n",
       "   594.30959342966833,\n",
       "   333.50736971489823,\n",
       "   162.70304898725939,\n",
       "   69.004346717088666,\n",
       "   25.441306769604655,\n",
       "   8.1540832224602511,\n",
       "   2.2718157000145567]},\n",
       " 'uniform': {'F': <function __main__.<lambda>>,\n",
       "  'bins': array([  9.84113917e-05,   5.00898950e-02,   1.00081379e-01,\n",
       "           1.50072862e-01,   2.00064346e-01,   2.50055829e-01,\n",
       "           3.00047313e-01,   3.50038797e-01,   4.00030280e-01,\n",
       "           4.50021764e-01,   5.00013247e-01,   5.50004731e-01,\n",
       "           5.99996214e-01,   6.49987698e-01,   6.99979182e-01,\n",
       "           7.49970665e-01,   7.99962149e-01,   8.49953632e-01,\n",
       "           8.99945116e-01,   9.49936600e-01,   9.99928083e-01]),\n",
       "  'generated_values': [484.0,\n",
       "   517.0,\n",
       "   509.0,\n",
       "   534.0,\n",
       "   454.0,\n",
       "   448.0,\n",
       "   539.0,\n",
       "   514.0,\n",
       "   493.0,\n",
       "   502.0,\n",
       "   507.0,\n",
       "   475.0,\n",
       "   494.0,\n",
       "   508.0,\n",
       "   482.0,\n",
       "   520.0,\n",
       "   532.0,\n",
       "   490.0,\n",
       "   504.0,\n",
       "   494.0],\n",
       "  'theoretical_values': [499.91483587069149,\n",
       "   499.91483587069149,\n",
       "   499.91483587069149,\n",
       "   499.91483587069149,\n",
       "   499.91483587069172,\n",
       "   499.91483587069121,\n",
       "   499.91483587069121,\n",
       "   499.91483587069172,\n",
       "   499.91483587069172,\n",
       "   499.91483587069172,\n",
       "   499.91483587069064,\n",
       "   499.91483587069172,\n",
       "   499.91483587069172,\n",
       "   499.91483587069064,\n",
       "   499.91483587069172,\n",
       "   499.91483587069172,\n",
       "   499.91483587069172,\n",
       "   499.91483587069172,\n",
       "   499.91483587069064,\n",
       "   499.91483587069172]}}"
      ]
     },
     "execution_count": 9,
     "metadata": {},
     "output_type": "execute_result"
    }
   ],
   "source": [
    "distributions"
   ]
  },
  {
   "cell_type": "code",
   "execution_count": 11,
   "metadata": {
    "collapsed": false
   },
   "outputs": [
    {
     "data": {
      "text/plain": [
       "([3987.0,\n",
       "  2391.0,\n",
       "  1425.0,\n",
       "  874.0,\n",
       "  526.0,\n",
       "  313.0,\n",
       "  197.0,\n",
       "  115.0,\n",
       "  73.0,\n",
       "  42.0,\n",
       "  26.0,\n",
       "  10.0,\n",
       "  7.0,\n",
       "  8.0,\n",
       "  5.0,\n",
       "  1.0],\n",
       " [3971.7654718250974,\n",
       "  2393.4508918476163,\n",
       "  1442.3326886553923,\n",
       "  869.17328943314828,\n",
       "  523.77805273782883,\n",
       "  315.63722892215316,\n",
       "  190.20816118754723,\n",
       "  114.62255167393631,\n",
       "  69.073426030807909,\n",
       "  41.624777270758969,\n",
       "  25.083772188562172,\n",
       "  15.115891746756427,\n",
       "  9.1090838165031052,\n",
       "  5.4892830251895841,\n",
       "  7.6627454850974885,\n",
       "  0.26288219630909992])"
      ]
     },
     "execution_count": 11,
     "metadata": {},
     "output_type": "execute_result"
    }
   ],
   "source": [
    "dist_name = 'exponetial'\n",
    "\n",
    "join_bins(\n",
    "        distributions[dist_name]['generated_values'],\n",
    "        distributions[dist_name]['theoretical_values'],\n",
    "        k=min_points\n",
    "    )"
   ]
  }
 ],
 "metadata": {
  "kernelspec": {
   "display_name": "Python 3",
   "language": "python",
   "name": "python3"
  },
  "language_info": {
   "codemirror_mode": {
    "name": "ipython",
    "version": 3
   },
   "file_extension": ".py",
   "mimetype": "text/x-python",
   "name": "python",
   "nbconvert_exporter": "python",
   "pygments_lexer": "ipython3",
   "version": "3.5.2"
  }
 },
 "nbformat": 4,
 "nbformat_minor": 2
}
